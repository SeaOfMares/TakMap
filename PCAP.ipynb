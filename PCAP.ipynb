{
 "cells": [
  {
   "cell_type": "code",
   "execution_count": 3,
   "metadata": {},
   "outputs": [],
   "source": [
    "import pyshark"
   ]
  },
  {
   "cell_type": "code",
   "execution_count": 5,
   "metadata": {},
   "outputs": [
    {
     "ename": "AttributeError",
     "evalue": "type object '_asyncio.Task' has no attribute 'all_tasks'",
     "output_type": "error",
     "traceback": [
      "\u001b[1;31m---------------------------------------------------------------------------\u001b[0m",
      "\u001b[1;31mAttributeError\u001b[0m                            Traceback (most recent call last)",
      "Cell \u001b[1;32mIn[5], line 2\u001b[0m\n\u001b[0;32m      1\u001b[0m \u001b[39m# Open the pcapng file\u001b[39;00m\n\u001b[1;32m----> 2\u001b[0m cap \u001b[39m=\u001b[39m pyshark\u001b[39m.\u001b[39;49mFileCapture(\u001b[39m'\u001b[39;49m\u001b[39m011723-WSMR-Unclass-nmapSCAN.pcapng\u001b[39;49m\u001b[39m'\u001b[39;49m)\n",
      "File \u001b[1;32mc:\\Users\\mares\\AppData\\Local\\Programs\\Python\\Python310\\lib\\site-packages\\pyshark\\capture\\file_capture.py:38\u001b[0m, in \u001b[0;36mFileCapture.__init__\u001b[1;34m(self, input_file, keep_packets, display_filter, only_summaries, decryption_key, encryption_type, decode_as, disable_protocol, tshark_path, override_prefs, use_json, use_ek, output_file, include_raw, eventloop, custom_parameters, debug)\u001b[0m\n\u001b[0;32m     10\u001b[0m \u001b[39mdef\u001b[39;00m \u001b[39m__init__\u001b[39m(\u001b[39mself\u001b[39m, input_file\u001b[39m=\u001b[39m\u001b[39mNone\u001b[39;00m, keep_packets\u001b[39m=\u001b[39m\u001b[39mTrue\u001b[39;00m, display_filter\u001b[39m=\u001b[39m\u001b[39mNone\u001b[39;00m, only_summaries\u001b[39m=\u001b[39m\u001b[39mFalse\u001b[39;00m,\n\u001b[0;32m     11\u001b[0m              decryption_key\u001b[39m=\u001b[39m\u001b[39mNone\u001b[39;00m, encryption_type\u001b[39m=\u001b[39m\u001b[39m\"\u001b[39m\u001b[39mwpa-pwk\u001b[39m\u001b[39m\"\u001b[39m, decode_as\u001b[39m=\u001b[39m\u001b[39mNone\u001b[39;00m,\n\u001b[0;32m     12\u001b[0m              disable_protocol\u001b[39m=\u001b[39m\u001b[39mNone\u001b[39;00m, tshark_path\u001b[39m=\u001b[39m\u001b[39mNone\u001b[39;00m, override_prefs\u001b[39m=\u001b[39m\u001b[39mNone\u001b[39;00m,\n\u001b[0;32m     13\u001b[0m              use_json\u001b[39m=\u001b[39m\u001b[39mFalse\u001b[39;00m, use_ek\u001b[39m=\u001b[39m\u001b[39mFalse\u001b[39;00m,\n\u001b[0;32m     14\u001b[0m              output_file\u001b[39m=\u001b[39m\u001b[39mNone\u001b[39;00m, include_raw\u001b[39m=\u001b[39m\u001b[39mFalse\u001b[39;00m, eventloop\u001b[39m=\u001b[39m\u001b[39mNone\u001b[39;00m, custom_parameters\u001b[39m=\u001b[39m\u001b[39mNone\u001b[39;00m,\n\u001b[0;32m     15\u001b[0m              debug\u001b[39m=\u001b[39m\u001b[39mFalse\u001b[39;00m):\n\u001b[0;32m     16\u001b[0m     \u001b[39m\"\"\"Creates a packet capture object by reading from file.\u001b[39;00m\n\u001b[0;32m     17\u001b[0m \n\u001b[0;32m     18\u001b[0m \u001b[39m    :param keep_packets: Whether to keep packets after reading them via next(). Used to conserve memory when reading\u001b[39;00m\n\u001b[1;32m   (...)\u001b[0m\n\u001b[0;32m     36\u001b[0m \u001b[39m    or else a list of parameters in the format [\"--foo\", \"bar\", \"--baz\", \"foo\"].\u001b[39;00m\n\u001b[0;32m     37\u001b[0m \u001b[39m    \"\"\"\u001b[39;00m\n\u001b[1;32m---> 38\u001b[0m     \u001b[39msuper\u001b[39;49m(FileCapture, \u001b[39mself\u001b[39;49m)\u001b[39m.\u001b[39;49m\u001b[39m__init__\u001b[39;49m(display_filter\u001b[39m=\u001b[39;49mdisplay_filter, only_summaries\u001b[39m=\u001b[39;49monly_summaries,\n\u001b[0;32m     39\u001b[0m                                       decryption_key\u001b[39m=\u001b[39;49mdecryption_key, encryption_type\u001b[39m=\u001b[39;49mencryption_type,\n\u001b[0;32m     40\u001b[0m                                       decode_as\u001b[39m=\u001b[39;49mdecode_as, disable_protocol\u001b[39m=\u001b[39;49mdisable_protocol,\n\u001b[0;32m     41\u001b[0m                                       tshark_path\u001b[39m=\u001b[39;49mtshark_path, override_prefs\u001b[39m=\u001b[39;49moverride_prefs,\n\u001b[0;32m     42\u001b[0m                                       use_json\u001b[39m=\u001b[39;49muse_json, use_ek\u001b[39m=\u001b[39;49muse_ek, output_file\u001b[39m=\u001b[39;49moutput_file,\n\u001b[0;32m     43\u001b[0m                                       include_raw\u001b[39m=\u001b[39;49minclude_raw, eventloop\u001b[39m=\u001b[39;49meventloop,\n\u001b[0;32m     44\u001b[0m                                       custom_parameters\u001b[39m=\u001b[39;49mcustom_parameters, debug\u001b[39m=\u001b[39;49mdebug)\n\u001b[0;32m     45\u001b[0m     \u001b[39mself\u001b[39m\u001b[39m.\u001b[39minput_filepath \u001b[39m=\u001b[39m pathlib\u001b[39m.\u001b[39mPath(input_file)\n\u001b[0;32m     46\u001b[0m     \u001b[39mif\u001b[39;00m \u001b[39mnot\u001b[39;00m \u001b[39mself\u001b[39m\u001b[39m.\u001b[39minput_filepath\u001b[39m.\u001b[39mexists():\n",
      "File \u001b[1;32mc:\\Users\\mares\\AppData\\Local\\Programs\\Python\\Python310\\lib\\site-packages\\pyshark\\capture\\capture.py:88\u001b[0m, in \u001b[0;36mCapture.__init__\u001b[1;34m(self, display_filter, only_summaries, eventloop, decryption_key, encryption_type, output_file, decode_as, disable_protocol, tshark_path, override_prefs, capture_filter, use_json, include_raw, use_ek, custom_parameters, debug)\u001b[0m\n\u001b[0;32m     86\u001b[0m \u001b[39mself\u001b[39m\u001b[39m.\u001b[39meventloop \u001b[39m=\u001b[39m eventloop\n\u001b[0;32m     87\u001b[0m \u001b[39mif\u001b[39;00m \u001b[39mself\u001b[39m\u001b[39m.\u001b[39meventloop \u001b[39mis\u001b[39;00m \u001b[39mNone\u001b[39;00m:\n\u001b[1;32m---> 88\u001b[0m     \u001b[39mself\u001b[39;49m\u001b[39m.\u001b[39;49m_setup_eventloop()\n\u001b[0;32m     89\u001b[0m \u001b[39mif\u001b[39;00m encryption_type \u001b[39mand\u001b[39;00m encryption_type\u001b[39m.\u001b[39mlower() \u001b[39min\u001b[39;00m \u001b[39mself\u001b[39m\u001b[39m.\u001b[39mSUPPORTED_ENCRYPTION_STANDARDS:\n\u001b[0;32m     90\u001b[0m     \u001b[39mself\u001b[39m\u001b[39m.\u001b[39mencryption \u001b[39m=\u001b[39m (decryption_key, encryption_type\u001b[39m.\u001b[39mlower())\n",
      "File \u001b[1;32mc:\\Users\\mares\\AppData\\Local\\Programs\\Python\\Python310\\lib\\site-packages\\pyshark\\capture\\capture.py:176\u001b[0m, in \u001b[0;36mCapture._setup_eventloop\u001b[1;34m(self)\u001b[0m\n\u001b[0;32m    172\u001b[0m     \u001b[39mself\u001b[39m\u001b[39m.\u001b[39meventloop \u001b[39m=\u001b[39m current_eventloop\n\u001b[0;32m    173\u001b[0m \u001b[39melse\u001b[39;00m:\n\u001b[0;32m    174\u001b[0m     \u001b[39m# On Python before 3.8, Proactor is not the default eventloop type, so we have to create a new one.\u001b[39;00m\n\u001b[0;32m    175\u001b[0m     \u001b[39m# If there was an existing eventloop this can create issues, since we effectively disable it here.\u001b[39;00m\n\u001b[1;32m--> 176\u001b[0m     \u001b[39mif\u001b[39;00m asyncio\u001b[39m.\u001b[39;49mTask\u001b[39m.\u001b[39;49mall_tasks():\n\u001b[0;32m    177\u001b[0m         warnings\u001b[39m.\u001b[39mwarn(\u001b[39m\"\u001b[39m\u001b[39mThe running eventloop has tasks but pyshark must set a new eventloop to continue. \u001b[39m\u001b[39m\"\u001b[39m\n\u001b[0;32m    178\u001b[0m                       \u001b[39m\"\u001b[39m\u001b[39mExisting tasks may not run.\u001b[39m\u001b[39m\"\u001b[39m)\n\u001b[0;32m    179\u001b[0m     \u001b[39mself\u001b[39m\u001b[39m.\u001b[39meventloop \u001b[39m=\u001b[39m asyncio\u001b[39m.\u001b[39mProactorEventLoop()\n",
      "\u001b[1;31mAttributeError\u001b[0m: type object '_asyncio.Task' has no attribute 'all_tasks'"
     ]
    }
   ],
   "source": [
    "\n",
    "# Open the pcapng file\n",
    "cap = pyshark.FileCapture('011723-WSMR-Unclass-nmapSCAN.pcapng')\n",
    "\n",
    "# Loop through each packet and extract the source and destination IP addresses\n",
    "for packet in cap:\n",
    "    if 'IP' in packet:\n",
    "        src_ip = packet['IP'].src\n",
    "        dst_ip = packet['IP'].dst\n",
    "        print(f\"Source IP: {src_ip}, Destination IP: {dst_ip}\")\n"
   ]
  },
  {
   "cell_type": "code",
   "execution_count": null,
   "metadata": {},
   "outputs": [],
   "source": [
    "# Loop through each packet and extract the source and destination IP addresses\n",
    "for packet in cap:\n",
    "    if 'IP' in packet:\n",
    "        src_ip = packet['IP'].src\n",
    "        dst_ip = packet['IP'].dst\n",
    "        print(f\"Source IP: {src_ip}, Destination IP: {dst_ip}\")"
   ]
  }
 ],
 "metadata": {
  "kernelspec": {
   "display_name": "Python 3",
   "language": "python",
   "name": "python3"
  },
  "language_info": {
   "codemirror_mode": {
    "name": "ipython",
    "version": 3
   },
   "file_extension": ".py",
   "mimetype": "text/x-python",
   "name": "python",
   "nbconvert_exporter": "python",
   "pygments_lexer": "ipython3",
   "version": "3.10.5"
  },
  "orig_nbformat": 4
 },
 "nbformat": 4,
 "nbformat_minor": 2
}
